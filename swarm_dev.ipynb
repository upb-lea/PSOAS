{
 "cells": [
  {
   "cell_type": "code",
   "execution_count": null,
   "metadata": {},
   "outputs": [],
   "source": [
    "%load_ext autoreload\n",
    "%autoreload 2\n",
    "\n",
    "%load_ext line_profiler"
   ]
  },
  {
   "cell_type": "code",
   "execution_count": null,
   "metadata": {},
   "outputs": [],
   "source": [
    "import numpy as np\n",
    "import matplotlib.pyplot as plt\n",
    "from tqdm import tqdm\n",
    "\n",
    "import swarm"
   ]
  },
  {
   "cell_type": "code",
   "execution_count": null,
   "metadata": {},
   "outputs": [],
   "source": [
    "def f(x):\n",
    "    return x[:, 0]**2 + x[:, 1]**2\n",
    "\n",
    "constraints = np.array([[1.0, 2.5],\n",
    "                        [10.0, 7.6]])\n",
    "\n"
   ]
  },
  {
   "cell_type": "code",
   "execution_count": null,
   "metadata": {
    "scrolled": false
   },
   "outputs": [],
   "source": [
    "sw = swarm.Swarm(f, 40, 2, constraints)\n",
    "gbest_list = []\n",
    "for i in tqdm(range(20)):\n",
    "    sw.update_swarm()\n",
    "    #print(sw.pbest_position)\n",
    "    gbest, gbest_position = sw.compute_gbest()\n",
    "    print(gbest)\n",
    "    gbest_list.append(gbest)\n",
    "    \n",
    "gbest, gbest_position = sw.compute_gbest()\n",
    "(gbest, gbest_position)"
   ]
  },
  {
   "cell_type": "code",
   "execution_count": null,
   "metadata": {},
   "outputs": [],
   "source": [
    "plt.plot(gbest_list)"
   ]
  },
  {
   "cell_type": "code",
   "execution_count": null,
   "metadata": {},
   "outputs": [],
   "source": [
    "f(np.array([[0.26649261, 2.07550618],\n",
    "            [2.49591414, 2.5903221 ]]))"
   ]
  },
  {
   "cell_type": "code",
   "execution_count": null,
   "metadata": {},
   "outputs": [],
   "source": [
    "\n",
    "bool_decider = self.pbest >  func_eval\n",
    "self.pbest[bool_decider] = func_eval[bool_decider]\n",
    "\n",
    "pre = np.array(self.pbest_position, dtype=np.int32)\n",
    "\n",
    "self.pbest_position[np.where(self.pbest > func_eval)] = self.position[np.where(self.pbest >  func_eval)]\n",
    "\n",
    "past = np.array(self.pbest_position, dtype=np.int32)\n",
    "\n",
    "if (pre != past).any():\n",
    "    print('problem')"
   ]
  },
  {
   "cell_type": "code",
   "execution_count": null,
   "metadata": {},
   "outputs": [],
   "source": []
  },
  {
   "cell_type": "code",
   "execution_count": null,
   "metadata": {},
   "outputs": [],
   "source": []
  },
  {
   "cell_type": "code",
   "execution_count": null,
   "metadata": {},
   "outputs": [],
   "source": []
  },
  {
   "cell_type": "code",
   "execution_count": null,
   "metadata": {},
   "outputs": [],
   "source": [
    "lbest, lbest_position = sw.compute_lbest()\n",
    "\n",
    "pbest = sw.pbest\n",
    "pbest_position = sw.pbest_position\n",
    "\n",
    "position = sw.position + sw.velocity\n",
    "values = sw.func(position)"
   ]
  },
  {
   "cell_type": "code",
   "execution_count": null,
   "metadata": {},
   "outputs": [],
   "source": [
    "c_1, c_2 = np.ones(2)*0.5 + np.log(2)\n",
    "\n",
    "U_1 = np.random.uniform(0, 1, (sw.n_particles, sw.dim))\n",
    "U_2 = np.random.uniform(0, 1, (sw.n_particles, sw.dim))\n",
    "\n",
    "proj_pbest = position + c_1 * U_1 * (pbest_position - position)\n",
    "proj_lbest = position + c_2 * U_2 * (lbest_position - position) \n",
    "\n",
    "center = (position + proj_pbest + proj_lbest) / 3\n",
    "r = np.linalg.norm(center - position, axis=1)"
   ]
  },
  {
   "cell_type": "code",
   "execution_count": null,
   "metadata": {},
   "outputs": [],
   "source": [
    "u = np.random.normal(0, 1, (sw.n_particles, sw.dim+2))\n",
    "u_norm = np.linalg.norm(u, axis=1)\n",
    "u /= u_norm[:,None]\n",
    "u *= r[:,None]\n",
    "\n",
    "update = u[:,:sw.dim]\n",
    "new_point = center + update"
   ]
  },
  {
   "cell_type": "code",
   "execution_count": null,
   "metadata": {},
   "outputs": [],
   "source": [
    "i=9\n",
    "plt.plot(position[i, 0], position[i, 1], 'r.')\n",
    "plt.plot(proj_pbest[i, 0], proj_pbest[i, 1], 'b.')\n",
    "plt.plot(proj_lbest[i, 0], proj_lbest[i, 1], 'g.')\n",
    "plt.plot(center[i, 0], center[i, 1], 'y.')\n",
    "plt.plot(new_point[i, 0], new_point[i, 1], 'k+')\n",
    "\n",
    "circle1 = plt.Circle(center[i, :] , r[i], color='purple')\n",
    "plt.gca().add_patch(circle1)\n",
    "\n",
    "plt.axis('equal')\n",
    "plt.show()"
   ]
  },
  {
   "cell_type": "code",
   "execution_count": null,
   "metadata": {},
   "outputs": [],
   "source": []
  }
 ],
 "metadata": {
  "kernelspec": {
   "display_name": "Python 3",
   "language": "python",
   "name": "python3"
  },
  "language_info": {
   "codemirror_mode": {
    "name": "ipython",
    "version": 3
   },
   "file_extension": ".py",
   "mimetype": "text/x-python",
   "name": "python",
   "nbconvert_exporter": "python",
   "pygments_lexer": "ipython3",
   "version": "3.7.9"
  }
 },
 "nbformat": 4,
 "nbformat_minor": 4
}
