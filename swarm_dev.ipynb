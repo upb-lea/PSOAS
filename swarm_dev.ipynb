{
 "cells": [
  {
   "cell_type": "code",
   "execution_count": null,
   "metadata": {},
   "outputs": [],
   "source": [
    "%load_ext autoreload\n",
    "%autoreload 2\n",
    "\n",
    "\n",
    "\n",
    "%load_ext line_profiler"
   ]
  },
  {
   "cell_type": "code",
   "execution_count": null,
   "metadata": {},
   "outputs": [],
   "source": [
    "import numpy as np\n",
    "import matplotlib.pyplot as plt\n",
    "from mpl_toolkits.mplot3d import Axes3D\n",
    "from tqdm import tqdm\n",
    "from evalset.evalset import test_funcs, icml2016_tests\n",
    "import sys, inspect\n",
    "\n",
    "import swarm\n",
    "import optimizer"
   ]
  },
  {
   "cell_type": "code",
   "execution_count": null,
   "metadata": {},
   "outputs": [],
   "source": [
    "Adjiman = test_funcs.Adjiman()"
   ]
  },
  {
   "cell_type": "code",
   "execution_count": null,
   "metadata": {},
   "outputs": [],
   "source": [
    "constraints = np.array(Adjiman.bounds)"
   ]
  },
  {
   "cell_type": "code",
   "execution_count": null,
   "metadata": {},
   "outputs": [],
   "source": [
    "init_swarm = swarm.Swarm(Adjiman.do_evaluate, 10, 2, constraints)"
   ]
  },
  {
   "cell_type": "code",
   "execution_count": null,
   "metadata": {},
   "outputs": [],
   "source": [
    "positions[0,:]=np.array([-12, 140])\n",
    "positions[2,:]=np.array([-17, 22])"
   ]
  },
  {
   "cell_type": "code",
   "execution_count": null,
   "metadata": {},
   "outputs": [],
   "source": [
    "bool_below = positions < constraints[:, 0]\n",
    "bool_above = positions > constraints[:, 1]\n",
    "\n",
    "for dim in range(init_swarm.dim):\n",
    "    positions[bool_below[:, dim], dim] = constraints[dim, 0]\n",
    "    positions[bool_above[:, dim], dim] = constraints[dim, 1]\n",
    "\n",
    "    velocity[bool_below[:, dim], dim] = 0\n",
    "    velocity[bool_above[:, dim], dim] = 0"
   ]
  },
  {
   "cell_type": "code",
   "execution_count": null,
   "metadata": {},
   "outputs": [],
   "source": [
    "def rosenbrock(x):\n",
    "    return (1 - x[:, 0])**2 + 100*(x[:, 1] - x[:, 0]**2)**2"
   ]
  },
  {
   "cell_type": "code",
   "execution_count": null,
   "metadata": {},
   "outputs": [],
   "source": [
    "def ackley(x):\n",
    "    f = -20*np.exp(-0.2*np.sqrt(0.5*((x[:,0]**2)+(x[:,1]**2))))-np.exp(0.5*(np.cos(2*np.pi*x[:,0])+np.cos(2*np.pi*x[:,1])))+np.exp(1)+20\n",
    "    return f"
   ]
  },
  {
   "cell_type": "code",
   "execution_count": null,
   "metadata": {},
   "outputs": [],
   "source": [
    "def print_classes():\n",
    "    List = []\n",
    "    for name, obj in inspect.getmembers(test_funcs):\n",
    "        if inspect.isclass(obj):\n",
    "            List.append(obj)\n",
    "    return List"
   ]
  },
  {
   "cell_type": "code",
   "execution_count": null,
   "metadata": {},
   "outputs": [],
   "source": [
    "icml = icml2016_tests.tests_for_nonparametric"
   ]
  },
  {
   "cell_type": "code",
   "execution_count": null,
   "metadata": {
    "scrolled": true
   },
   "outputs": [],
   "source": [
    "icml = icml2016_tests.tests_for_nonparametric\n",
    "for idx, test in enumerate(icml):\n",
    "\n",
    "    test_function_class = getattr(test_funcs, test['name'])\n",
    "    test_function_base = test_function_class(test['dim'])\n",
    "    print(\"#####################################################################################\")\n",
    "    print(\"Testfunction:\", test['name'])\n",
    "    print(\"Testfunc.dim:\",test_function_base.dim)\n",
    "    \n",
    "    try:   \n",
    "        opt = optimizer.Optimizer(test_function_base.do_evaluate, 60, test_function_base.dim, np.array(test_function_base.bounds), 500)\n",
    "        result = opt.optimize()\n",
    "        plt.plot(result['gbest_list'])\n",
    "        plt.ylim(ymin=0)\n",
    "        plt.show()\n",
    "        print(\"Bounds:\",test_function_base.bounds)\n",
    "        print(f\"The expected minimum was found at {result['x_opt']} with a functionvalue of {result['func_opt']}\")\n",
    "        print(f\"The real minimum is located at {test_function_base.min_loc} with a functionvalue of {test_function_base.fmin}\")\n",
    "        print(f\"Error -> {np.linalg.norm(result['x_opt']-test_function_base.min_loc)}\")\n",
    "    except (IndexError, ValueError):\n",
    "        print(\"Our optimazier couldn't handel the objectiv function, trying the next one.\")\n",
    "    \n",
    "    "
   ]
  },
  {
   "cell_type": "code",
   "execution_count": null,
   "metadata": {},
   "outputs": [],
   "source": [
    "Plateau = test_funcs.Plateau()"
   ]
  },
  {
   "cell_type": "code",
   "execution_count": null,
   "metadata": {},
   "outputs": [],
   "source": [
    "opt = optimizer.Optimizer(Plateau.do_evaluate, 20, Plateau.dim, np.array(Plateau.bounds), 50)\n",
    "\n",
    "# %lprun -f optimizer.Optimizer.optimize gbest_list = opt.optimize()\n",
    "# %timeit gbest_list = opt.optimize()\n",
    "\n",
    "result = opt.optimize()\n",
    "plt.plot(result['gbest_list'])\n",
    "print(result['x_opt'], result['func_opt'])"
   ]
  },
  {
   "cell_type": "code",
   "execution_count": null,
   "metadata": {},
   "outputs": [],
   "source": [
    "opt = optimizer.Optimizer(Ackley.do_evaluate, 20, Ackley.dim, np.array(Ackley.bounds), 50)\n",
    "\n",
    "# %lprun -f optimizer.Optimizer.optimize gbest_list = opt.optimize()\n",
    "# %timeit gbest_list = opt.optimize()\n",
    "\n",
    "result = opt.optimize()\n",
    "plt.plot(result['gbest_list'])\n",
    "print(result['x_opt'], result['func_opt'])"
   ]
  },
  {
   "cell_type": "code",
   "execution_count": null,
   "metadata": {
    "scrolled": false
   },
   "outputs": [],
   "source": [
    "sw = swarm.Swarm(f, 10, 2, constraints)\n",
    "# gbest_list = []\n",
    "# for i in tqdm(range(100)):\n",
    "#     sw.update_swarm()\n",
    "#     #print(sw.pbest_position)\n",
    "#     gbest, gbest_position = sw.compute_gbest()\n",
    "#     print(gbest)\n",
    "#     gbest_list.append(gbest)\n",
    "    \n",
    "gbest, gbest_position = sw.compute_gbest()\n",
    "(gbest, gbest_position)"
   ]
  },
  {
   "cell_type": "code",
   "execution_count": null,
   "metadata": {},
   "outputs": [],
   "source": [
    "lbest, lbest_position = sw.compute_lbest()\n",
    "\n",
    "pbest = sw.pbest\n",
    "pbest_position = sw.pbest_position\n",
    "\n",
    "position = sw.position + sw.velocity\n",
    "values = sw.func(position)"
   ]
  },
  {
   "cell_type": "code",
   "execution_count": null,
   "metadata": {},
   "outputs": [],
   "source": [
    "c_1, c_2 = np.ones(2)*0.5 + np.log(2)\n",
    "\n",
    "U_1 = np.random.uniform(0, 1, (sw.n_particles, sw.dim))\n",
    "U_2 = np.random.uniform(0, 1, (sw.n_particles, sw.dim))\n",
    "\n",
    "proj_pbest = position + c_1 * U_1 * (pbest_position - position)\n",
    "proj_lbest = position + c_2 * U_2 * (lbest_position - position) \n",
    "\n",
    "center = (position + proj_pbest + proj_lbest) / 3\n",
    "r = np.linalg.norm(center - position, axis=1)"
   ]
  },
  {
   "cell_type": "code",
   "execution_count": null,
   "metadata": {},
   "outputs": [],
   "source": [
    "u = np.random.normal(0, 1, (sw.n_particles, sw.dim+2))\n",
    "u_norm = np.linalg.norm(u, axis=1)\n",
    "u /= u_norm[:,None]\n",
    "u *= r[:,None]\n",
    "\n",
    "update = u[:,:sw.dim]\n",
    "new_point = center + update"
   ]
  },
  {
   "cell_type": "markdown",
   "metadata": {},
   "source": [
    "# Function for hypersphere sampling"
   ]
  },
  {
   "cell_type": "code",
   "execution_count": null,
   "metadata": {},
   "outputs": [],
   "source": [
    "def get_random_sample(r, dim):\n",
    "    u = np.random.normal(0, 1, (r.shape[0], dim+2))\n",
    "    u_norm = np.linalg.norm(u, axis=1)\n",
    "    u /= u_norm[:,None]\n",
    "    u *= r[:,None]\n",
    "    return u[:,:dim]"
   ]
  },
  {
   "cell_type": "markdown",
   "metadata": {},
   "source": [
    "# Test for Hypersphere sampling in 2D"
   ]
  },
  {
   "cell_type": "code",
   "execution_count": null,
   "metadata": {},
   "outputs": [],
   "source": [
    "random_samples=[]\n",
    "    \n",
    "update = get_random_sample(r, sw.dim)\n",
    "\n",
    "random_samples.append(center + update)\n",
    "\n",
    "random_samples = np.array(random_samples)"
   ]
  },
  {
   "cell_type": "code",
   "execution_count": null,
   "metadata": {},
   "outputs": [],
   "source": [
    "i=1\n",
    "plt.plot(position[0, 0], position[0, 1], label='starting pos', marker='+', color='blue')\n",
    "plt.plot(proj_pbest[0, 0], proj_pbest[0, 1], label='Proj_pbest', marker='+', color='red')\n",
    "plt.plot(proj_lbest[0, 0], proj_lbest[0, 1], label='Proj_lbest', marker='o', color='green')\n",
    "plt.plot(center[0, 0], center[0, 1], label='Center', marker='o', color='yellow')\n",
    "\n",
    "\n",
    "# for idx, sample in enumerate(random_samples):\n",
    "\n",
    "plt.plot(random_samples[:, 0, 0], random_samples[:, 0, 1], linestyle='None', marker='.', color='black')\n",
    "\n",
    "plt.legend()\n",
    "\n",
    "\n",
    "circle1 = plt.Circle(center[0, :] , r[0], color='purple')\n",
    "plt.gca().add_patch(circle1)\n",
    "\n",
    "plt.axis('equal')\n",
    "plt.show()"
   ]
  },
  {
   "cell_type": "markdown",
   "metadata": {},
   "source": [
    "# Test for Hypersphere sampling in 3D"
   ]
  },
  {
   "cell_type": "code",
   "execution_count": null,
   "metadata": {},
   "outputs": [],
   "source": [
    "center=np.array([0, 0, 0])"
   ]
  },
  {
   "cell_type": "code",
   "execution_count": null,
   "metadata": {},
   "outputs": [],
   "source": [
    "radius = 0.6\n",
    "dim = 3"
   ]
  },
  {
   "cell_type": "code",
   "execution_count": null,
   "metadata": {},
   "outputs": [],
   "source": [
    "# def get_random_sample(r, dim):\n",
    "#     u = np.random.normal(0, 1, dim+2)\n",
    "#     u_norm = np.linalg.norm(u)\n",
    "#     u /= u_norm\n",
    "#     u *= r\n",
    "#     return u[:dim]\n",
    "\n",
    "# Just for the 3D Plot"
   ]
  },
  {
   "cell_type": "code",
   "execution_count": null,
   "metadata": {},
   "outputs": [],
   "source": [
    "data = [get_random_sample(radius, 3) for _ in range(100)]"
   ]
  },
  {
   "cell_type": "code",
   "execution_count": null,
   "metadata": {},
   "outputs": [],
   "source": [
    "data = np.array(data)"
   ]
  },
  {
   "cell_type": "code",
   "execution_count": null,
   "metadata": {},
   "outputs": [],
   "source": [
    "import plotly.express as px"
   ]
  },
  {
   "cell_type": "code",
   "execution_count": null,
   "metadata": {},
   "outputs": [],
   "source": [
    "fig = px.scatter_3d(x=data[:, 0], y=data[:, 1], z=data[:, 2])\n",
    "fig.show()"
   ]
  },
  {
   "cell_type": "markdown",
   "metadata": {},
   "source": [
    "# Testfunction"
   ]
  },
  {
   "cell_type": "markdown",
   "metadata": {},
   "source": [
    "Where \"update\" is the hypersperical sample and r is the radius of the ball in which we would like to perform a uniform draw. "
   ]
  },
  {
   "cell_type": "code",
   "execution_count": null,
   "metadata": {},
   "outputs": [],
   "source": [
    "update = get_random_sample(r, sw.dim)"
   ]
  },
  {
   "cell_type": "code",
   "execution_count": null,
   "metadata": {},
   "outputs": [],
   "source": [
    "np.testing.assert_array_less(np.linalg.norm(update, axis=1), r)"
   ]
  }
 ],
 "metadata": {
  "kernelspec": {
   "display_name": "Python 3",
   "language": "python",
   "name": "python3"
  },
  "language_info": {
   "codemirror_mode": {
    "name": "ipython",
    "version": 3
   },
   "file_extension": ".py",
   "mimetype": "text/x-python",
   "name": "python",
   "nbconvert_exporter": "python",
   "pygments_lexer": "ipython3",
   "version": "3.8.5"
  }
 },
 "nbformat": 4,
 "nbformat_minor": 4
}
