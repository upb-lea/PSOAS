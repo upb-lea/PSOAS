{
 "cells": [
  {
   "cell_type": "code",
   "execution_count": null,
   "metadata": {},
   "outputs": [],
   "source": [
    "%load_ext autoreload\n",
    "%autoreload 2\n",
    "\n",
    "%load_ext line_profiler"
   ]
  },
  {
   "cell_type": "code",
   "execution_count": null,
   "metadata": {},
   "outputs": [],
   "source": [
    "import numpy as np\n",
    "import matplotlib.pyplot as plt\n",
    "\n",
    "import swarm"
   ]
  },
  {
   "cell_type": "code",
   "execution_count": null,
   "metadata": {},
   "outputs": [],
   "source": [
    "def f(x):\n",
    "    return x[:, 0]**2 + x[:, 1]**2\n",
    "\n",
    "constraints = np.array([[1.0, 2.5],\n",
    "                        [10.0, 7.6]])\n",
    "\n",
    "sw = swarm.Swarm(f, 10, 2, constraints)"
   ]
  },
  {
   "cell_type": "code",
   "execution_count": null,
   "metadata": {},
   "outputs": [],
   "source": [
    "gbest, gbest_position = sw.compute_gbest()"
   ]
  },
  {
   "cell_type": "code",
   "execution_count": null,
   "metadata": {},
   "outputs": [],
   "source": [
    "lbest, lbest_position = sw.compute_lbest()\n",
    "\n",
    "pbest = sw.pbest\n",
    "pbest_position = sw.pbest_position\n",
    "\n",
    "position = sw.position + sw.velocity\n",
    "values = sw.func(position)\n"
   ]
  },
  {
   "cell_type": "code",
   "execution_count": null,
   "metadata": {},
   "outputs": [],
   "source": [
    "c_1 = 0.5 + np.log(2)\n",
    "c_2 = 0.5 + np.log(2)\n",
    "U_1 = np.random.uniform(0, 1, (sw.n_particles, sw.dim))\n",
    "U_2 = np.random.uniform(0, 1, (sw.n_particles, sw.dim))\n",
    "\n",
    "proj_pbest = position + c_1 * U_1 * (pbest_position - position)\n",
    "proj_lbest = position + c_2 * U_2 * (lbest_position - position) \n",
    "\n",
    "G = (position + proj_pbest + proj_lbest) / 3"
   ]
  },
  {
   "cell_type": "code",
   "execution_count": null,
   "metadata": {},
   "outputs": [],
   "source": [
    "radius = np.linalg.norm(G - position, axis=1)\n",
    "radius"
   ]
  },
  {
   "cell_type": "code",
   "execution_count": null,
   "metadata": {},
   "outputs": [],
   "source": [
    "i=1\n",
    "plt.plot(position[i, 0], position[i, 1], 'r.')\n",
    "plt.plot(proj_pbest[i, 0], proj_pbest[i, 1], 'b.')\n",
    "plt.plot(proj_lbest[i, 0], proj_lbest[i, 1], 'g.')\n",
    "plt.plot(G[i, 0], G[i, 1], 'y.')\n",
    "\n",
    "circle1 = plt.Circle(G[i, :] , radius[i], color='purple')\n",
    "plt.gca().add_patch(circle1)\n",
    "\n",
    "plt.axis('equal')\n",
    "plt.show()"
   ]
  },
  {
   "cell_type": "code",
   "execution_count": null,
   "metadata": {},
   "outputs": [],
   "source": []
  }
 ],
 "metadata": {
  "kernelspec": {
   "display_name": "Python 3",
   "language": "python",
   "name": "python3"
  },
  "language_info": {
   "codemirror_mode": {
    "name": "ipython",
    "version": 3
   },
   "file_extension": ".py",
   "mimetype": "text/x-python",
   "name": "python",
   "nbconvert_exporter": "python",
   "pygments_lexer": "ipython3",
   "version": "3.7.9"
  }
 },
 "nbformat": 4,
 "nbformat_minor": 4
}
