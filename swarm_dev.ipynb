{
 "cells": [
  {
   "cell_type": "code",
   "execution_count": null,
   "metadata": {},
   "outputs": [],
   "source": [
    "%load_ext autoreload\n",
    "%autoreload 2\n",
    "\n",
    "%load_ext line_profiler"
   ]
  },
  {
   "cell_type": "code",
   "execution_count": null,
   "metadata": {},
   "outputs": [],
   "source": [
    "import numpy as np\n",
    "import matplotlib.pyplot as plt\n",
    "from mpl_toolkits.mplot3d import Axes3D\n",
    "from tqdm import tqdm\n",
    "\n",
    "import swarm"
   ]
  },
  {
   "cell_type": "code",
   "execution_count": null,
   "metadata": {},
   "outputs": [],
   "source": [
    "def f(x):\n",
    "    return x[:, 0]**2 + x[:, 1]**2\n",
    "\n",
    "constraints = np.array([[1.0, 2.5],\n",
    "                        [10.0, 7.6]])\n",
    "\n"
   ]
  },
  {
   "cell_type": "code",
   "execution_count": null,
   "metadata": {
    "scrolled": false
   },
   "outputs": [],
   "source": [
    "sw = swarm.Swarm(f, 1, 2, constraints)\n",
    "# gbest_list = []\n",
    "# for i in tqdm(range(100)):\n",
    "#     sw.update_swarm()\n",
    "#     #print(sw.pbest_position)\n",
    "#     gbest, gbest_position = sw.compute_gbest()\n",
    "#     print(gbest)\n",
    "#     gbest_list.append(gbest)\n",
    "    \n",
    "gbest, gbest_position = sw.compute_gbest()\n",
    "(gbest, gbest_position)"
   ]
  },
  {
   "cell_type": "code",
   "execution_count": null,
   "metadata": {},
   "outputs": [],
   "source": [
    "# plt.plot(gbest_list)"
   ]
  },
  {
   "cell_type": "code",
   "execution_count": null,
   "metadata": {},
   "outputs": [],
   "source": [
    "# f(np.array([[0.26649261, 2.07550618],\n",
    "#             [2.49591414, 2.5903221 ]]))"
   ]
  },
  {
   "cell_type": "code",
   "execution_count": null,
   "metadata": {},
   "outputs": [],
   "source": [
    "# bool_decider = self.pbest >  func_eval\n",
    "# self.pbest[bool_decider] = func_eval[bool_decider]\n",
    "\n",
    "# pre = np.array(self.pbest_position, dtype=np.int32)\n",
    "\n",
    "# self.pbest_position[np.where(self.pbest > func_eval)] = self.position[np.where(self.pbest >  func_eval)]\n",
    "\n",
    "# past = np.array(self.pbest_position, dtype=np.int32)\n",
    "\n",
    "# if (pre != past).any():\n",
    "#     print('problem')"
   ]
  },
  {
   "cell_type": "code",
   "execution_count": null,
   "metadata": {},
   "outputs": [],
   "source": [
    "lbest, lbest_position = sw.compute_lbest()\n",
    "\n",
    "pbest = sw.pbest\n",
    "pbest_position = sw.pbest_position\n",
    "\n",
    "position = sw.position + sw.velocity\n",
    "values = sw.func(position)"
   ]
  },
  {
   "cell_type": "code",
   "execution_count": null,
   "metadata": {},
   "outputs": [],
   "source": [
    "position"
   ]
  },
  {
   "cell_type": "code",
   "execution_count": null,
   "metadata": {},
   "outputs": [],
   "source": [
    "c_1, c_2 = np.ones(2)*0.5 + np.log(2)\n",
    "\n",
    "U_1 = np.random.uniform(0, 1, (sw.n_particles, sw.dim))\n",
    "U_2 = np.random.uniform(0, 1, (sw.n_particles, sw.dim))\n",
    "\n",
    "proj_pbest = position + c_1 * U_1 * (pbest_position - position)\n",
    "proj_lbest = position + c_2 * U_2 * (lbest_position - position) \n",
    "\n",
    "center = (position + proj_pbest + proj_lbest) / 3\n",
    "r = np.linalg.norm(center - position, axis=1)"
   ]
  },
  {
   "cell_type": "code",
   "execution_count": null,
   "metadata": {},
   "outputs": [],
   "source": [
    "u = np.random.normal(0, 1, (sw.n_particles, sw.dim+2))\n",
    "u_norm = np.linalg.norm(u, axis=1)\n",
    "u /= u_norm[:,None]\n",
    "u *= r[:,None]\n",
    "\n",
    "update = u[:,:sw.dim]\n",
    "new_point = center + update"
   ]
  },
  {
   "cell_type": "markdown",
   "metadata": {},
   "source": [
    "# Test for Hypersphere sampling in 2D"
   ]
  },
  {
   "cell_type": "code",
   "execution_count": null,
   "metadata": {},
   "outputs": [],
   "source": [
    "random_samples=[]\n",
    "\n",
    "for i in range(5000):\n",
    "    u = np.random.normal(0, 1, (sw.n_particles, sw.dim+2))\n",
    "    u_norm = np.linalg.norm(u, axis=1)\n",
    "    u /= u_norm[:,None]\n",
    "    u *= r[:,None]\n",
    "\n",
    "    update = u[:,:sw.dim]\n",
    "    random_samples.append(center + update)\n",
    "\n",
    "random_samples = np.array(random_samples)"
   ]
  },
  {
   "cell_type": "code",
   "execution_count": null,
   "metadata": {},
   "outputs": [],
   "source": [
    "random_samples.shape"
   ]
  },
  {
   "cell_type": "code",
   "execution_count": null,
   "metadata": {},
   "outputs": [],
   "source": [
    "i=1\n",
    "plt.plot(position[0, 0], position[0, 1], label='starting pos', marker='+', color='blue')\n",
    "plt.plot(proj_pbest[0, 0], proj_pbest[0, 1], label='Proj_pbest', marker='+', color='red')\n",
    "plt.plot(proj_lbest[0, 0], proj_lbest[0, 1], label='Proj_lbest', marker='o', color='green')\n",
    "plt.plot(center[0, 0], center[0, 1], label='Center', marker='o', color='yellow')\n",
    "\n",
    "\n",
    "# for idx, sample in enumerate(random_samples):\n",
    "\n",
    "plt.plot(random_samples[:, 0, 0], random_samples[:, 0, 1], linestyle='None', marker='.', color='black')\n",
    "\n",
    "plt.legend()\n",
    "\n",
    "\n",
    "circle1 = plt.Circle(center[0, :] , r[0], color='purple')\n",
    "plt.gca().add_patch(circle1)\n",
    "\n",
    "plt.axis('equal')\n",
    "plt.show()"
   ]
  },
  {
   "cell_type": "markdown",
   "metadata": {},
   "source": [
    "# Test for Hypersphere sampling in 3D"
   ]
  },
  {
   "cell_type": "code",
   "execution_count": null,
   "metadata": {},
   "outputs": [],
   "source": [
    "center=np.array([0, 0, 0])"
   ]
  },
  {
   "cell_type": "code",
   "execution_count": null,
   "metadata": {},
   "outputs": [],
   "source": [
    "radius = 0.6\n",
    "dim = 3"
   ]
  },
  {
   "cell_type": "code",
   "execution_count": null,
   "metadata": {},
   "outputs": [],
   "source": [
    "def get_random_sample(r, dim):\n",
    "    u = np.random.normal(0, 1, dim+2)\n",
    "    u_norm = np.linalg.norm(u)\n",
    "    u /= u_norm\n",
    "    u *= r\n",
    "    return u[:dim]"
   ]
  },
  {
   "cell_type": "code",
   "execution_count": null,
   "metadata": {},
   "outputs": [],
   "source": [
    "data = [get_random_sample(radius, 3) for _ in range(100)]"
   ]
  },
  {
   "cell_type": "code",
   "execution_count": null,
   "metadata": {},
   "outputs": [],
   "source": [
    "data = np.array(data)"
   ]
  },
  {
   "cell_type": "code",
   "execution_count": null,
   "metadata": {},
   "outputs": [],
   "source": [
    "# fig = plt.figure()\n",
    "# ax = fig.gca(projection='3d')\n",
    "\n",
    "# for _, point in enumerate(data):\n",
    "#     xs = point[0]\n",
    "#     ys = point[1]\n",
    "#     zs = point[2]\n",
    "#     ax.scatter(xs, ys, zs)\n",
    "\n",
    "# plt.show()"
   ]
  },
  {
   "cell_type": "code",
   "execution_count": null,
   "metadata": {},
   "outputs": [],
   "source": [
    "import plotly.express as px"
   ]
  },
  {
   "cell_type": "code",
   "execution_count": null,
   "metadata": {},
   "outputs": [],
   "source": [
    "fig = px.scatter_3d(x=data[:, 0], y=data[:, 1], z=data[:, 2])\n",
    "fig.show()"
   ]
  },
  {
   "cell_type": "code",
   "execution_count": null,
   "metadata": {},
   "outputs": [],
   "source": []
  }
 ],
 "metadata": {
  "kernelspec": {
   "display_name": "Python 3",
   "language": "python",
   "name": "python3"
  },
  "language_info": {
   "codemirror_mode": {
    "name": "ipython",
    "version": 3
   },
   "file_extension": ".py",
   "mimetype": "text/x-python",
   "name": "python",
   "nbconvert_exporter": "python",
   "pygments_lexer": "ipython3",
   "version": "3.8.5"
  }
 },
 "nbformat": 4,
 "nbformat_minor": 4
}
