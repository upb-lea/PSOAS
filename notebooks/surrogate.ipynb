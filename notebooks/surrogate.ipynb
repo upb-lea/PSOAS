{
 "cells": [
  {
   "cell_type": "code",
   "execution_count": null,
   "id": "554e6be4",
   "metadata": {},
   "outputs": [],
   "source": [
    "%load_ext autoreload\n",
    "%autoreload 2\n",
    "\n",
    "%load_ext line_profiler"
   ]
  },
  {
   "cell_type": "code",
   "execution_count": null,
   "id": "14cc2a00",
   "metadata": {},
   "outputs": [],
   "source": [
    "import numpy as np\n",
    "import smt\n",
    "import matplotlib.pyplot as plt\n",
    "from psoas import optimizer as opti\n",
    "import plotly.graph_objects as go\n",
    "\n",
    "from smt.surrogate_models import KRG"
   ]
  },
  {
   "cell_type": "code",
   "execution_count": null,
   "id": "baa2e148",
   "metadata": {
    "scrolled": true
   },
   "outputs": [],
   "source": [
    "xt = np.array([0.0, 1.0, 2.0, 3.0, 4.0])\n",
    "yt = np.array([0.0, 1.0, 1.5, 0.9, 1.0])\n",
    "\n",
    "sm = KRG(theta0=[1e-2])\n",
    "sm.set_training_values(xt, yt)\n",
    "sm.train()\n",
    "\n",
    "num = 100\n",
    "x = np.linspace(0.0, 4.0, num)\n",
    "y = sm.predict_values(x)\n",
    "# estimated variance\n",
    "s2 = sm.predict_variances(x)\n",
    "# derivative according to the first variable\n",
    "dydx = sm.predict_derivatives(xt, 0)\n",
    "fig, axs = plt.subplots(1)\n",
    "\n",
    "# add a plot with variance\n",
    "axs.plot(xt, yt, \"o\")\n",
    "axs.plot(x, y)\n",
    "axs.fill_between(\n",
    "    np.ravel(x),\n",
    "    np.ravel(y - 3 * np.sqrt(s2)),\n",
    "    np.ravel(y + 3 * np.sqrt(s2)),\n",
    "    color=\"lightgrey\",\n",
    ")\n",
    "axs.set_xlabel(\"x\")\n",
    "axs.set_ylabel(\"y\")\n",
    "axs.legend(\n",
    "    [\"Training data\", \"Prediction\", \"Confidence Interval 99%\"],\n",
    "    loc=\"lower right\",\n",
    ")\n",
    "\n",
    "plt.show()"
   ]
  },
  {
   "cell_type": "markdown",
   "id": "3cee4ac8",
   "metadata": {},
   "source": [
    "# Import Function"
   ]
  },
  {
   "cell_type": "code",
   "execution_count": null,
   "id": "8f5d4e34",
   "metadata": {
    "scrolled": false
   },
   "outputs": [],
   "source": [
    "from external_code.cec2013single.cec2013single import cec2013 as cec\n",
    "bench = cec.Benchmark()\n",
    "dim = 2\n",
    "options = {\"mode\": 'SPSO2011', \"topology\": 'global', \"eps\": 0.0001, 'verbose': False, \"surrogate\": 'KRG'}\n",
    "\n",
    "i=1\n",
    "\n",
    "info = bench.get_info(i,dim)\n",
    "constraints = np.ones((dim, 2))*np.array([info['lower'], info['upper']])\n",
    "f = bench.get_function(i)\n",
    "\n",
    "print(80 * \"=\")\n",
    "\n",
    "opt = opti.Optimizer(f, 10, dim, constraints, 31, options)\n",
    "result = opt.optimize()\n",
    "\n",
    "\n",
    "# plt.plot(result['gbest_list'])\n",
    "# plt.xlim(xmin =0)\n",
    "# plt.title(f\"Function {i}\")\n",
    "# plt.xlabel(\"Iterations\")\n",
    "# plt.ylabel(\"Cost\")\n",
    "# plt.grid()\n",
    "\n",
    "# # plt.ylim(ymin=0, ymax=25)\n",
    "# plt.show()\n",
    "print(f\"Bounds:{dim}*({info['lower'], info['upper']})\")\n",
    "# print(f\"Resulting functionvalue: {result['func_opt']}. Converged after {result['iter']} iterations.\")\n",
    "# print(f\"The real functionvalue:{info['best']}\")\n",
    "print(80 * \"=\")"
   ]
  },
  {
   "cell_type": "code",
   "execution_count": null,
   "id": "3fd050a3",
   "metadata": {},
   "outputs": [],
   "source": [
    "A, idx = np.unique(np.array([1,2,3,4,2,6]), return_index=True)"
   ]
  },
  {
   "cell_type": "code",
   "execution_count": null,
   "id": "acf34022",
   "metadata": {},
   "outputs": [],
   "source": [
    "np.array([1,2,3,4,2,6])[idx]"
   ]
  },
  {
   "cell_type": "markdown",
   "id": "e2d7edfa",
   "metadata": {},
   "source": [
    "# Creat model"
   ]
  },
  {
   "cell_type": "code",
   "execution_count": null,
   "id": "eaada6dd",
   "metadata": {},
   "outputs": [],
   "source": [
    "sm = KRG(theta0=[1e-2])\n",
    "\n",
    "sm.set_training_values(position, f_values)"
   ]
  },
  {
   "cell_type": "code",
   "execution_count": null,
   "id": "915e9852",
   "metadata": {},
   "outputs": [],
   "source": [
    "sm.train()"
   ]
  },
  {
   "cell_type": "code",
   "execution_count": null,
   "id": "63289974",
   "metadata": {},
   "outputs": [],
   "source": [
    "num = 100\n",
    "B = np.linspace(-100, 100, num)\n",
    "x, y = np.meshgrid(B,B)\n",
    "\n",
    "print(x.shape, y.shape)\n",
    "\n",
    "x = x.flatten()\n",
    "y = y.flatten()\n",
    "\n",
    "print(x.shape)\n",
    "\n",
    "x_ = np.array([x, y]).T\n",
    "\n",
    "print(x_.shape)\n",
    "\n",
    "y = sm.predict_values(x_)"
   ]
  },
  {
   "cell_type": "code",
   "execution_count": null,
   "id": "a047e32f",
   "metadata": {},
   "outputs": [],
   "source": [
    "s2 = sm.predict_variances(x_)"
   ]
  },
  {
   "cell_type": "code",
   "execution_count": null,
   "id": "20b6d052",
   "metadata": {},
   "outputs": [],
   "source": [
    "z = np.reshape(y, (num, num))"
   ]
  },
  {
   "cell_type": "code",
   "execution_count": null,
   "id": "fd0229fd",
   "metadata": {},
   "outputs": [],
   "source": [
    "fig = go.Figure(data=[go.Surface(z=z)])\n",
    "fig.show()\n",
    "# fig.update_traces(contours_z=dict(show=True, usecolormap=True, highlightcolor=\"limegreen\", project_z=True))"
   ]
  },
  {
   "cell_type": "code",
   "execution_count": null,
   "id": "f8252d8d",
   "metadata": {},
   "outputs": [],
   "source": []
  }
 ],
 "metadata": {
  "kernelspec": {
   "display_name": "Python 3",
   "language": "python",
   "name": "python3"
  },
  "language_info": {
   "codemirror_mode": {
    "name": "ipython",
    "version": 3
   },
   "file_extension": ".py",
   "mimetype": "text/x-python",
   "name": "python",
   "nbconvert_exporter": "python",
   "pygments_lexer": "ipython3",
   "version": "3.6.9"
  }
 },
 "nbformat": 4,
 "nbformat_minor": 5
}
