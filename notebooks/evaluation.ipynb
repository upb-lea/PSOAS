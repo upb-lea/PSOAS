{
 "cells": [
  {
   "cell_type": "code",
   "execution_count": null,
   "metadata": {},
   "outputs": [],
   "source": [
    "%load_ext autoreload\n",
    "%autoreload 2\n",
    "\n",
    "%load_ext line_profiler"
   ]
  },
  {
   "cell_type": "code",
   "execution_count": null,
   "metadata": {},
   "outputs": [],
   "source": [
    "import numpy as np\n",
    "import matplotlib.pyplot as plt\n",
    "from mpl_toolkits.mplot3d import Axes3D\n",
    "from tqdm import tqdm\n",
    "from evalset.evalset import test_funcs, icml2016_tests\n",
    "import sys, inspect\n",
    "\n",
    "from psoas import swarm\n",
    "from psoas import optimizer"
   ]
  },
  {
   "cell_type": "code",
   "execution_count": null,
   "metadata": {},
   "outputs": [],
   "source": [
    "def print_classes():\n",
    "    List = []\n",
    "    for name, obj in inspect.getmembers(test_funcs):\n",
    "        if inspect.isclass(obj):\n",
    "            List.append(obj)\n",
    "    return List"
   ]
  },
  {
   "cell_type": "code",
   "execution_count": null,
   "metadata": {},
   "outputs": [],
   "source": [
    "icml = icml2016_tests.tests_for_nonparametric"
   ]
  },
  {
   "cell_type": "code",
   "execution_count": null,
   "metadata": {
    "scrolled": false
   },
   "outputs": [],
   "source": [
    "icml = icml2016_tests.tests_for_nonparametric\n",
    "for idx, test in enumerate(icml):\n",
    "\n",
    "    test_function_class = getattr(test_funcs, test['name'])\n",
    "    test_function_base = test_function_class(test['dim'])\n",
    "    print(\"########################################################################################################\")\n",
    "    print(\"Testfunction:\", test['name'])\n",
    "    print(\"Testfunc.dim:\",test_function_base.dim)\n",
    "    \n",
    "    try:   \n",
    "        opt = optimizer.Optimizer(test_function_base.do_evaluate, max(20, test_function_base.dim), test_function_base.dim, np.array(test_function_base.bounds), 500)\n",
    "        result = opt.optimize()\n",
    "        plt.plot(result['gbest_list'])\n",
    "        plt.ylim(ymin=0, ymax=25)\n",
    "        plt.show()\n",
    "        print(\"Bounds:\",test_function_base.bounds)\n",
    "        print(f\"The expected minimum was found at {result['x_opt']} with a functionvalue of {result['func_opt']}\")\n",
    "        print(f\"The real minimum is located at {test_function_base.min_loc} with a functionvalue of {test_function_base.fmin}\")\n",
    "    except (IndexError, ValueError):\n",
    "        print(\"Our optimazier couldn't handel the objectiv function, trying the next one.\")\n",
    "    \n",
    "    "
   ]
  },
  {
   "cell_type": "code",
   "execution_count": null,
   "metadata": {},
   "outputs": [],
   "source": []
  },
  {
   "cell_type": "code",
   "execution_count": null,
   "metadata": {},
   "outputs": [],
   "source": [
    "Plateau = test_funcs.Plateau()"
   ]
  },
  {
   "cell_type": "code",
   "execution_count": null,
   "metadata": {},
   "outputs": [],
   "source": [
    "opt = optimizer.Optimizer(Plateau.do_evaluate, 20, Plateau.dim, np.array(Plateau.bounds), 50)\n",
    "\n",
    "# %lprun -f optimizer.Optimizer.optimize gbest_list = opt.optimize()\n",
    "# %timeit gbest_list = opt.optimize()\n",
    "\n",
    "result = opt.optimize()\n",
    "plt.plot(result['gbest_list'])\n",
    "print(result['x_opt'], result['func_opt'])"
   ]
  },
  {
   "cell_type": "code",
   "execution_count": null,
   "metadata": {},
   "outputs": [],
   "source": [
    "opt = optimizer.Optimizer(Ackley.do_evaluate, 20, Ackley.dim, np.array(Ackley.bounds), 50)\n",
    "\n",
    "# %lprun -f optimizer.Optimizer.optimize gbest_list = opt.optimize()\n",
    "# %timeit gbest_list = opt.optimize()\n",
    "\n",
    "result = opt.optimize()\n",
    "plt.plot(result['gbest_list'])\n",
    "print(result['x_opt'], result['func_opt'])"
   ]
  },
  {
   "cell_type": "code",
   "execution_count": null,
   "metadata": {},
   "outputs": [],
   "source": [
    "sw = swarm.Swarm(f, 10, 2, constraints)\n",
    "# gbest_list = []\n",
    "# for i in tqdm(range(100)):\n",
    "#     sw.update_swarm()\n",
    "#     #print(sw.pbest_position)\n",
    "#     gbest, gbest_position = sw.compute_gbest()\n",
    "#     print(gbest)\n",
    "#     gbest_list.append(gbest)\n",
    "    \n",
    "gbest, gbest_position = sw.compute_gbest()\n",
    "(gbest, gbest_position)"
   ]
  },
  {
   "cell_type": "code",
   "execution_count": null,
   "metadata": {},
   "outputs": [],
   "source": []
  }
 ],
 "metadata": {
  "kernelspec": {
   "display_name": "Python 3",
   "language": "python",
   "name": "python3"
  },
  "language_info": {
   "codemirror_mode": {
    "name": "ipython",
    "version": 3
   },
   "file_extension": ".py",
   "mimetype": "text/x-python",
   "name": "python",
   "nbconvert_exporter": "python",
   "pygments_lexer": "ipython3",
   "version": "3.8.5"
  }
 },
 "nbformat": 4,
 "nbformat_minor": 4
}
