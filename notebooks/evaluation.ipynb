{
 "cells": [
  {
   "cell_type": "code",
   "execution_count": null,
   "metadata": {},
   "outputs": [],
   "source": [
    "%load_ext autoreload\n",
    "%autoreload 2\n",
    "\n",
    "%load_ext line_profiler"
   ]
  },
  {
   "cell_type": "code",
   "execution_count": null,
   "metadata": {},
   "outputs": [],
   "source": [
    "import numpy as np\n",
    "import matplotlib.pyplot as plt\n",
    "from mpl_toolkits.mplot3d import Axes3D\n",
    "from tqdm import tqdm\n",
    "from evalset.evalset import test_funcs, icml2016_tests\n",
    "import sys, inspect\n",
    "\n",
    "from psoas import swarm\n",
    "from psoas import optimizer as opti"
   ]
  },
  {
   "source": [
    "# Evaluation on evalset"
   ],
   "cell_type": "markdown",
   "metadata": {}
  },
  {
   "cell_type": "code",
   "execution_count": null,
   "metadata": {
    "scrolled": false
   },
   "outputs": [],
   "source": [
    "icml = icml2016_tests.tests_for_nonparametric\n",
    "for idx, test in enumerate(icml):\n",
    "\n",
    "    test_function_class = getattr(test_funcs, test['name'])\n",
    "    test_function_base = test_function_class(test['dim'])\n",
    "    print(\"########################################################################################################\")\n",
    "    print(\"Testfunction:\", test['name'])\n",
    "    print(\"Testfunc.dim:\",test_function_base.dim)\n",
    "    \n",
    "    try:   \n",
    "        opt = optimizer.Optimizer(test_function_base.do_evaluate, max(20, test_function_base.dim), test_function_base.dim, np.array(test_function_base.bounds), 500)\n",
    "        result = opt.optimize()\n",
    "        plt.plot(result['gbest_list'])\n",
    "        plt.ylim(ymin=0, ymax=25)\n",
    "        plt.show()\n",
    "        print(\"Bounds:\",test_function_base.bounds)\n",
    "        print(f\"The expected minimum was found at {result['x_opt']} with a functionvalue of {result['func_opt']}\")\n",
    "        print(f\"The real minimum is located at {test_function_base.min_loc} with a functionvalue of {test_function_base.fmin}\")\n",
    "    except (IndexError, ValueError):\n",
    "        print(\"Our optimazier couldn't handel the objectiv function, trying the next one.\")\n",
    "    \n",
    "    "
   ]
  },
  {
   "cell_type": "code",
   "execution_count": null,
   "metadata": {},
   "outputs": [],
   "source": []
  },
  {
   "cell_type": "code",
   "execution_count": null,
   "metadata": {},
   "outputs": [],
   "source": [
    "Plateau = test_funcs.Plateau()"
   ]
  },
  {
   "cell_type": "code",
   "execution_count": null,
   "metadata": {},
   "outputs": [],
   "source": [
    "opt = optimizer.Optimizer(Plateau.do_evaluate, 20, Plateau.dim, np.array(Plateau.bounds), 50)\n",
    "\n",
    "# %lprun -f optimizer.Optimizer.optimize gbest_list = opt.optimize()\n",
    "# %timeit gbest_list = opt.optimize()\n",
    "\n",
    "result = opt.optimize()\n",
    "plt.plot(result['gbest_list'])\n",
    "print(result['x_opt'], result['func_opt'])"
   ]
  },
  {
   "cell_type": "code",
   "execution_count": null,
   "metadata": {},
   "outputs": [],
   "source": [
    "opt = opti.Optimizer(Ackley.do_evaluate, 20, Ackley.dim, np.array(Ackley.bounds), 50)\n",
    "\n",
    "# %lprun -f optimizer.Optimizer.optimize gbest_list = opt.optimize()\n",
    "# %timeit gbest_list = opt.optimize()\n",
    "\n",
    "result = opt.optimize()\n",
    "plt.plot(result['gbest_list'])\n",
    "print(result['x_opt'], result['func_opt'])"
   ]
  },
  {
   "cell_type": "code",
   "execution_count": null,
   "metadata": {},
   "outputs": [],
   "source": [
    "sw = swarm.Swarm(f, 10, 2, constraints)\n",
    "# gbest_list = []\n",
    "# for i in tqdm(range(100)):\n",
    "#     sw.update_swarm()\n",
    "#     #print(sw.pbest_position)\n",
    "#     gbest, gbest_position = sw.compute_gbest()\n",
    "#     print(gbest)\n",
    "#     gbest_list.append(gbest)\n",
    "    \n",
    "gbest, gbest_position = sw.compute_gbest()\n",
    "(gbest, gbest_position)"
   ]
  },
  {
   "source": [
    "# Evaluation on CEC2013 LSG"
   ],
   "cell_type": "markdown",
   "metadata": {}
  },
  {
   "cell_type": "code",
   "execution_count": null,
   "metadata": {},
   "outputs": [],
   "source": [
    "from cec2013lsgo import cec2013\n",
    "\n",
    "bench = cec2013.Benchmark()\n",
    "num_funcs = bench.get_num_functions()"
   ]
  },
  {
   "cell_type": "code",
   "execution_count": null,
   "metadata": {},
   "outputs": [],
   "source": [
    "num_funcs = bench.get_num_functions()\n",
    "\n",
    "for i in range(num_funcs):\n",
    "    i+=1\n",
    "    info = bench.get_info(i)\n",
    "    dim = info['dimension']\n",
    "    constrainints = np.ones((dim, 2))*np.array([info['lower'], info['upper']])\n",
    "    func = bench.get_function(i)\n",
    "\n",
    "\n",
    "    print(\"########################################################################################################\")\n",
    "    print(\"Testfunction ID:\", i)\n",
    "    print(\"Testfunc.dim:\", dim)\n",
    "    \n",
    "    opt = opti.Optimizer(func, max(40, dim), dim, constrainints, 500)\n",
    "    result = opt.optimize()\n",
    "    plt.plot(result['gbest_list'])\n",
    "    plt.ylim(ymin=0, ymax=25)\n",
    "    plt.show()\n",
    "    print(f\"Bounds:{dim}*({info['lower'], info['upper']})\")\n",
    "    print(f\"Resulting functionvalue: {result['func_opt']}\")\n",
    "    print(f\"The real functionvalue:{info['best']}\")\n",
    "    break"
   ]
  },
  {
   "source": [
    "# Evaluation CEC 2013 single"
   ],
   "cell_type": "markdown",
   "metadata": {}
  },
  {
   "cell_type": "code",
   "execution_count": null,
   "metadata": {},
   "outputs": [],
   "source": [
    "from cec2013single.cec2013single import cec2013 as cec\n",
    "# CEC13DATA = cec2013single/cec2013single/cec2013_data"
   ]
  },
  {
   "cell_type": "code",
   "execution_count": null,
   "metadata": {},
   "outputs": [],
   "source": [
    "bench = cec.Benchmark()\n",
    "dim = 2"
   ]
  },
  {
   "cell_type": "code",
   "execution_count": null,
   "metadata": {},
   "outputs": [],
   "source": [
    "for i in range(1,28):\n",
    "    info = bench.get_info(i,dim)\n",
    "    constraints = np.ones((dim, 2))*np.array([info['lower'], info['upper']])\n",
    "    func = bench.get_function(i)\n",
    "\n",
    "\n",
    "    print(80 * \"=\")\n",
    "    print(\"Testfunction ID:\", i)\n",
    "    print(\"Testfunc.dim:\", dim)\n",
    "    \n",
    "    opt = opti.Optimizer(func, max(40, dim*5), dim, constraints, 200)\n",
    "    result = opt.optimize()\n",
    "    \n",
    "    # plt.plot(result['gbest_list'])\n",
    "    # plt.xlim(xmin =0)\n",
    "    # plt.title(f\"Function {i}\")\n",
    "    # plt.xlabel(\"Iterations\")\n",
    "    # plt.ylabel(\"Cost\")\n",
    "    # plt.grid()\n",
    "\n",
    "    # # plt.ylim(ymin=0, ymax=25)\n",
    "    # plt.show()\n",
    "    print(f\"Bounds:{dim}*({info['lower'], info['upper']})\")\n",
    "    print(f\"Resulting functionvalue: {result['func_opt']}. Converged after {result['iter']} iterations.\")\n",
    "    print(f\"The real functionvalue:{info['best']}\")\n",
    "    print(80 * \"=\")\n"
   ]
  },
  {
   "source": [
    "# Evaluation pyswarms on CEC 2013 single"
   ],
   "cell_type": "markdown",
   "metadata": {}
  },
  {
   "cell_type": "code",
   "execution_count": null,
   "metadata": {},
   "outputs": [],
   "source": [
    "def wrapper(x, f):\n",
    "    n_particles = x.shape[0]\n",
    "    sol = [f(x[i]) for i in range(n_particles)]\n",
    "    return np.array(sol) "
   ]
  },
  {
   "cell_type": "code",
   "execution_count": null,
   "metadata": {},
   "outputs": [],
   "source": [
    "import pyswarms as ps\n",
    "options = {'c1': 0.5, 'c2': 0.3, 'w':0.9}\n",
    "dim = 2\n",
    "max_bound = 100 * np.ones(dim)\n",
    "min_bound = - max_bound\n",
    "bounds = (min_bound, max_bound)\n",
    "\n",
    "for i in range(1,28):\n",
    "    info = bench.get_info(i,dim)\n",
    "    func = bench.get_function(i)\n",
    "\n",
    "\n",
    "    print(80 * \"=\")\n",
    "    print(\"Testfunction ID:\", i)\n",
    "    print(\"Testfunc.dim:\", dim)\n",
    "    \n",
    "    optimizer = ps.single.GlobalBestPSO(n_particles=40, dimensions=2, options=options, bounds=bounds)\n",
    "\n",
    "    # Perform optimization\n",
    "    cost, pos = optimizer.optimize(wrapper, iters=200, f=func)\n",
    "\n",
    "    # plt.plot(optimizer.cost_history)\n",
    "    # plt.xlim(xmin =0)\n",
    "    # plt.title(f\"Function {i}\")\n",
    "    # plt.xlabel(\"Iterations\")\n",
    "    # plt.ylabel(\"Cost\")\n",
    "    # plt.grid()\n",
    "\n",
    "    # # plt.ylim(ymin=0, ymax=25)\n",
    "    # plt.show()\n",
    "    # print(f\"Bounds:{dim}*({info['lower'], info['upper']})\")\n",
    "    print(f\"Resulting functionvalue: {cost}.\")\n",
    "    print(f\"The real functionvalue:{info['best']}\")\n",
    "    print(80 * \"=\")\n"
   ]
  },
  {
   "cell_type": "code",
   "execution_count": null,
   "metadata": {},
   "outputs": [],
   "source": []
  }
 ],
 "metadata": {
  "kernelspec": {
   "display_name": "Python 3",
   "language": "python",
   "name": "python3"
  },
  "language_info": {
   "codemirror_mode": {
    "name": "ipython",
    "version": 3
   },
   "file_extension": ".py",
   "mimetype": "text/x-python",
   "name": "python",
   "nbconvert_exporter": "python",
   "pygments_lexer": "ipython3",
   "version": "3.6.9"
  }
 },
 "nbformat": 4,
 "nbformat_minor": 4
}