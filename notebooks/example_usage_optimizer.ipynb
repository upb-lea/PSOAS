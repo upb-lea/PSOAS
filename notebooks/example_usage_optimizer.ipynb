{
 "cells": [
  {
   "cell_type": "markdown",
   "id": "8774ad6d",
   "metadata": {},
   "source": [
    "- This notebook is meant to illustrate the basic functionalities of the optimizer.\n",
    "\n",
    "---"
   ]
  },
  {
   "cell_type": "code",
   "execution_count": null,
   "id": "204b9e0e",
   "metadata": {},
   "outputs": [],
   "source": [
    "%load_ext autoreload\n",
    "%autoreload 2"
   ]
  },
  {
   "cell_type": "code",
   "execution_count": null,
   "id": "daa4f83e",
   "metadata": {},
   "outputs": [],
   "source": [
    "import numpy as np\n",
    "import matplotlib.pyplot as plt"
   ]
  },
  {
   "cell_type": "code",
   "execution_count": null,
   "id": "d0a6c385",
   "metadata": {},
   "outputs": [],
   "source": [
    "from psoas.optimizer import Optimizer"
   ]
  },
  {
   "cell_type": "code",
   "execution_count": null,
   "id": "01086c8e",
   "metadata": {},
   "outputs": [],
   "source": [
    "def function(x, a=1, b=100):\n",
    "    \"\"\"The 2-dimensional rosenbrock function as an example.\n",
    "    \n",
    "    Within the optimizer it is assumed that the function is always evaluated for one data\n",
    "    point at a time and not with an input matrix which holds a multitude of points. Therefore\n",
    "    we will implement the rosenbrock function with this assumption in mind.\n",
    "    \"\"\"\n",
    "    return (a - x[0])**2 + b * (x[1] - x[0]**2)**2\n",
    "\n",
    "\n",
    "# somewhat arbitrary constraints for the rosenbrock function\n",
    "\n",
    "constr = np.array([[-2, 2], \n",
    "                   [-1, 3]])"
   ]
  },
  {
   "cell_type": "markdown",
   "id": "fa534742",
   "metadata": {},
   "source": [
    "---\n",
    "## Most basic use case:\n",
    "- follows the SPSO2011 update rule"
   ]
  },
  {
   "cell_type": "code",
   "execution_count": null,
   "id": "6a0d76a2",
   "metadata": {},
   "outputs": [],
   "source": [
    "n_particles = 30\n",
    "dim = 2\n",
    "max_iter = 20\n",
    "\n",
    "# disable the surrogate model for the first test:\n",
    "surrogate_options={'use_surrogate': False}\n",
    "\n",
    "opt = Optimizer(function, n_particles, dim, constr, max_iter, verbose=True, surrogate_options=surrogate_options)\n",
    "res = opt.optimize()\n",
    "\n",
    "print('proposed optimum:', res['x_opt'])\n",
    "print('with value:', res['func_opt'])"
   ]
  },
  {
   "cell_type": "markdown",
   "id": "f7534f62",
   "metadata": {},
   "source": [
    "---\n",
    "## With surrogate:\n",
    "- uses the propositions of the surrogate to try and predict good positions for the particles of the swarm\n",
    "- should generally be used for functions where a function evaluation takes more than a few milliseconds,\n",
    "    otherwise more function evaluations might be preferable"
   ]
  },
  {
   "cell_type": "code",
   "execution_count": null,
   "id": "6924ca61",
   "metadata": {},
   "outputs": [],
   "source": [
    "n_particles = 30\n",
    "dim = 2\n",
    "max_iter = 20\n",
    "\n",
    "opt = Optimizer(function, n_particles, dim, constr, max_iter, verbose=True)\n",
    "res = opt.optimize()\n",
    "\n",
    "print('proposed optimum:', res['x_opt'])\n",
    "print('with value:', res['func_opt'])"
   ]
  },
  {
   "cell_type": "markdown",
   "id": "f179acf7",
   "metadata": {},
   "source": [
    "---\n",
    "## Basic options:\n",
    "- showcases some further functionalities\n",
    "- the options can be given as simple keywords directly to the function or using a python dictionary\n",
    "- all options are described in the documentation of the Optimizer class"
   ]
  },
  {
   "cell_type": "markdown",
   "id": "a62fd41e",
   "metadata": {},
   "source": [
    "---\n",
    "- convergence plots for global best and statistics for the personal bests of the swarm"
   ]
  },
  {
   "cell_type": "code",
   "execution_count": null,
   "id": "9ca208a8",
   "metadata": {},
   "outputs": [],
   "source": [
    "options = {'verbose': False,\n",
    "           'verbose_interval': 1,\n",
    "           'do_plots': True,\n",
    "           'swarm_options': {'mode': 'SPSO2011', \n",
    "                             'topology': 'global',\n",
    "                             'contour_plot': False,\n",
    "                             'create_gif': False},\n",
    "           'surrogate_options': {'surrogate_type': 'GP',\n",
    "                                 'use_surrogate': False,\n",
    "                                 'use_buffer': True,\n",
    "                                 'buffer_type': 'time',\n",
    "                                 'n_slots': 4,\n",
    "                                 '3d_plot': False,\n",
    "                                 'interval': 1,\n",
    "                                 'm': 5,\n",
    "                                 'proposition_mode': 'standard',\n",
    "                                 'prioritization': 0.2}\n",
    "           }\n",
    "\n",
    "n_particles = 30\n",
    "dim = 2\n",
    "max_iter = 20\n",
    "\n",
    "opt = Optimizer(function, n_particles, dim, constr, max_iter, **options)\n",
    "res = opt.optimize()"
   ]
  },
  {
   "cell_type": "markdown",
   "id": "a902eb19",
   "metadata": {},
   "source": [
    "---\n",
    "- plot of mean and variance predictions from the surrogate (only for 2d functions)\n",
    "- see eg. https://en.wikipedia.org/wiki/Rosenbrock_function for a 3d plot of the actual function"
   ]
  },
  {
   "cell_type": "code",
   "execution_count": null,
   "id": "57fa565c",
   "metadata": {
    "scrolled": false
   },
   "outputs": [],
   "source": [
    "options = {'verbose': False,\n",
    "           'verbose_interval': 1,\n",
    "           'do_plots': False,\n",
    "           'swarm_options': {'mode': 'SPSO2011', \n",
    "                             'topology': 'global',\n",
    "                             'contour_plot': False,\n",
    "                             'create_gif': False},\n",
    "           'surrogate_options': {'surrogate_type': 'GP',\n",
    "                                 'use_surrogate': True,\n",
    "                                 'use_buffer': True,\n",
    "                                 'buffer_type': 'time',\n",
    "                                 'n_slots': 4,\n",
    "                                 '3d_plot': True,\n",
    "                                 'interval': 1,\n",
    "                                 'm': 5,\n",
    "                                 'proposition_mode': 'standard',\n",
    "                                 'prioritization': 0.2}\n",
    "           }\n",
    "\n",
    "n_particles = 15\n",
    "dim = 2\n",
    "max_iter = 5\n",
    "\n",
    "opt = Optimizer(function, n_particles, dim, constr, max_iter, **options)\n",
    "res = opt.optimize()"
   ]
  },
  {
   "cell_type": "markdown",
   "id": "8f5ff949",
   "metadata": {},
   "source": [
    "---\n",
    "- Contour plot of the function and the particles (only for 2d functions)"
   ]
  },
  {
   "cell_type": "code",
   "execution_count": null,
   "id": "d828e495",
   "metadata": {
    "scrolled": false
   },
   "outputs": [],
   "source": [
    "options = {'verbose': False,\n",
    "           'verbose_interval': 1,\n",
    "           'do_plots': False,\n",
    "           'swarm_options': {'mode': 'SPSO2011', \n",
    "                             'topology': 'global',\n",
    "                             'contour_plot': True,\n",
    "                             'create_gif': False},\n",
    "           'surrogate_options': {'surrogate_type': 'GP',\n",
    "                                 'use_surrogate': False,\n",
    "                                 'use_buffer': True,\n",
    "                                 'buffer_type': 'time',\n",
    "                                 'n_slots': 4,\n",
    "                                 '3d_plot': True,\n",
    "                                 'interval': 1,\n",
    "                                 'm': 5,\n",
    "                                 'proposition_mode': 'standard',\n",
    "                                 'prioritization': 0.2}\n",
    "           }\n",
    "\n",
    "n_particles = 20\n",
    "dim = 2\n",
    "max_iter = 20\n",
    "\n",
    "opt = Optimizer(function, n_particles, dim, constr, max_iter, **options)\n",
    "res = opt.optimize()"
   ]
  },
  {
   "cell_type": "code",
   "execution_count": null,
   "id": "cf8a7bb2",
   "metadata": {},
   "outputs": [],
   "source": []
  }
 ],
 "metadata": {
  "kernelspec": {
   "display_name": "Python 3",
   "language": "python",
   "name": "python3"
  },
  "language_info": {
   "codemirror_mode": {
    "name": "ipython",
    "version": 3
   },
   "file_extension": ".py",
   "mimetype": "text/x-python",
   "name": "python",
   "nbconvert_exporter": "python",
   "pygments_lexer": "ipython3",
   "version": "3.6.9"
  }
 },
 "nbformat": 4,
 "nbformat_minor": 5
}
