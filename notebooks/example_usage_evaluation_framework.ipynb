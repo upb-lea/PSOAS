{
 "cells": [
  {
   "cell_type": "markdown",
   "metadata": {},
   "source": [
    "- This notebook is meant to illustrate the basic functionalities of the evaluation framework.\n",
    "\n",
    "---"
   ]
  },
  {
   "cell_type": "code",
   "execution_count": null,
   "metadata": {},
   "outputs": [],
   "source": [
    "%load_ext autoreload\n",
    "%autoreload 2"
   ]
  },
  {
   "cell_type": "code",
   "execution_count": null,
   "metadata": {},
   "outputs": [],
   "source": [
    "import numpy as np\n",
    "import matplotlib.pyplot as plt"
   ]
  },
  {
   "cell_type": "code",
   "execution_count": null,
   "metadata": {},
   "outputs": [],
   "source": [
    "import sys\n",
    "sys.path.append(\"..\")\n",
    "import psoas.evaluation as psoas_eval\n",
    "from external_code.cec2013single.cec2013single import cec2013 as cec\n",
    "\n",
    "bench = cec.Benchmark()"
   ]
  },
  {
   "cell_type": "markdown",
   "metadata": {},
   "source": [
    "---\n",
    "## Single function evaluation:"
   ]
  },
  {
   "cell_type": "code",
   "execution_count": null,
   "metadata": {},
   "outputs": [],
   "source": [
    "dim = 10\n",
    "\n",
    "i = 5\n",
    "info = bench.get_info(i,dim)\n",
    "constraints = np.ones((dim, 2))*np.array([info['lower'], info['upper']])\n",
    "func = bench.get_function(i)\n",
    "\n",
    "evaluation = psoas_eval.EvaluationSingle(func, constraints, opt_value=info['best'])"
   ]
  },
  {
   "cell_type": "markdown",
   "metadata": {},
   "source": [
    "---\n",
    "### Without surrogate:"
   ]
  },
  {
   "cell_type": "code",
   "execution_count": null,
   "metadata": {},
   "outputs": [],
   "source": [
    "options = {\n",
    "        'eps_abs': 0.0,\n",
    "        'eps_rel': 0.0,\n",
    "        'stalling_steps': 10,\n",
    "        'verbose': False,\n",
    "        'verbose_interval': 1,\n",
    "        'do_plots': False,\n",
    "        'swarm_options': {'mode': 'SPSO2011',\n",
    "                          'topology': 'global',\n",
    "                          'contour_plot': False,\n",
    "                          'create_gif': False\n",
    "                         },\n",
    "        'surrogate_options': {'surrogate_type': 'GP',\n",
    "                              'use_surrogate': False,\n",
    "                              'use_buffer': True,\n",
    "                              'buffer_type': 'time',\n",
    "                              'n_slots': 4,\n",
    "                              '3d_plot': False,\n",
    "                              'interval': 1,\n",
    "                              'proposition_mode': 'standard_m',\n",
    "                              'm': 5}\n",
    "         }\n",
    "\n",
    "n_particles = 50\n",
    "max_iter = 20\n",
    "max_func_evals = 1000\n",
    "n_runs = 51\n",
    "\n",
    "evaluation.evaluate_function(n_particles, dim, max_iter, max_func_evals, options, n_runs, \n",
    "                             eval_convergence_plot=True)"
   ]
  },
  {
   "cell_type": "code",
   "execution_count": null,
   "metadata": {
    "scrolled": true
   },
   "outputs": [],
   "source": [
    "evaluation.print_tables()"
   ]
  },
  {
   "cell_type": "code",
   "execution_count": null,
   "metadata": {},
   "outputs": [],
   "source": [
    "evaluation.get_statistical_information()"
   ]
  },
  {
   "cell_type": "code",
   "execution_count": null,
   "metadata": {},
   "outputs": [],
   "source": [
    "evaluation.plot_percentiles('func_opt')\n",
    "evaluation.plot_histogram('func_opt')"
   ]
  },
  {
   "cell_type": "code",
   "execution_count": null,
   "metadata": {},
   "outputs": [],
   "source": [
    "evaluation.plot_convergence()"
   ]
  },
  {
   "cell_type": "markdown",
   "metadata": {},
   "source": [
    "---\n",
    "### With surrogate:"
   ]
  },
  {
   "cell_type": "code",
   "execution_count": null,
   "metadata": {},
   "outputs": [],
   "source": [
    "options = {\n",
    "        'eps_abs': 0.0,\n",
    "        'eps_rel': 0.0,\n",
    "        'stalling_steps': 10,\n",
    "        'verbose': False,\n",
    "        'verbose_interval': 1,\n",
    "        'do_plots': False,\n",
    "        'swarm_options': {'mode': 'SPSO2011',\n",
    "                          'topology': 'global',\n",
    "                          'contour_plot': False,\n",
    "                          'create_gif': False\n",
    "                         },\n",
    "        'surrogate_options': {'surrogate_type': 'GP',\n",
    "                              'use_surrogate': True,\n",
    "                              'use_buffer': True,\n",
    "                              'buffer_type': 'time',\n",
    "                              'n_slots': 4,\n",
    "                              '3d_plot': False,\n",
    "                              'interval': 1,\n",
    "                              'proposition_mode': 'standard',\n",
    "                              'm': 5}\n",
    "         }\n",
    "\n",
    "n_particles = 50\n",
    "max_iter = 20\n",
    "max_func_evals = 1000\n",
    "n_runs = 10\n",
    "\n",
    "\n",
    "evaluation.evaluate_function(n_particles, dim, max_iter, max_func_evals, options, n_runs, \n",
    "                             eval_convergence_plot=True)\n"
   ]
  },
  {
   "cell_type": "code",
   "execution_count": null,
   "metadata": {},
   "outputs": [],
   "source": [
    "evaluation.print_tables()"
   ]
  },
  {
   "cell_type": "code",
   "execution_count": null,
   "metadata": {},
   "outputs": [],
   "source": [
    "evaluation.get_statistical_information()"
   ]
  },
  {
   "cell_type": "code",
   "execution_count": null,
   "metadata": {},
   "outputs": [],
   "source": [
    "evaluation.plot_percentiles('func_opt')\n",
    "evaluation.plot_histogram('func_opt')"
   ]
  },
  {
   "cell_type": "code",
   "execution_count": null,
   "metadata": {},
   "outputs": [],
   "source": [
    "evaluation.plot_convergence()"
   ]
  },
  {
   "cell_type": "markdown",
   "metadata": {},
   "source": [
    "---"
   ]
  },
  {
   "cell_type": "markdown",
   "metadata": {},
   "source": [
    "### Function set evaluation:\n",
    "\n",
    "Additionally to the single function evaluation, there is also the function set evaluation which tests the optimizer on the full 28 test functions of the cec2013 benchmark. It is generally used to evaluate different optimization techniques and not too interesting for applications."
   ]
  },
  {
   "cell_type": "markdown",
   "metadata": {},
   "source": [
    "The 'use_surrogate' key is set to False here because the evaluation of all functions with the surrogate takes quite some time."
   ]
  },
  {
   "cell_type": "code",
   "execution_count": null,
   "metadata": {},
   "outputs": [],
   "source": [
    "dim = 10\n",
    "options = {\n",
    "        'eps_abs': 0.0,\n",
    "        'eps_rel': 0.0,\n",
    "        'stalling_steps': 10,\n",
    "        'verbose': False,\n",
    "        'verbose_interval': 1,\n",
    "        'do_plots': False,\n",
    "        'swarm_options': {'mode': 'SPSO2011',\n",
    "                          'topology': 'global',\n",
    "                          'contour_plot': False,\n",
    "                          'create_gif': False\n",
    "                         },\n",
    "        'surrogate_options': {'surrogate_type': 'GP',\n",
    "                              'use_surrogate': False,\n",
    "                              'use_buffer': True,\n",
    "                              'buffer_type': 'time',\n",
    "                              'n_slots': 4,\n",
    "                              '3d_plot': False,\n",
    "                              'interval': 1,\n",
    "                              'proposition_mode': 'standard',\n",
    "                              'm': 5}\n",
    "         }\n",
    "\n",
    "evaluation = psoas_eval.EvaluationFunctionSet()\n",
    "evaluation.evaluate_functions(bench, 50, dim, 19, 1000, options, 51)"
   ]
  },
  {
   "cell_type": "code",
   "execution_count": null,
   "metadata": {},
   "outputs": [],
   "source": [
    "import pandas as pd\n",
    "pd.DataFrame.from_dict(evaluation.results['summary'])"
   ]
  },
  {
   "cell_type": "code",
   "execution_count": null,
   "metadata": {},
   "outputs": [],
   "source": []
  }
 ],
 "metadata": {
  "kernelspec": {
   "display_name": "Python [conda env:PSOASdev]",
   "language": "python",
   "name": "conda-env-PSOASdev-py"
  },
  "language_info": {
   "codemirror_mode": {
    "name": "ipython",
    "version": 3
   },
   "file_extension": ".py",
   "mimetype": "text/x-python",
   "name": "python",
   "nbconvert_exporter": "python",
   "pygments_lexer": "ipython3",
   "version": "3.6.13"
  }
 },
 "nbformat": 4,
 "nbformat_minor": 5
}
