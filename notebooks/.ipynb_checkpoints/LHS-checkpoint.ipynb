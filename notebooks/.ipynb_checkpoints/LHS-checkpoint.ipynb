{
 "cells": [
  {
   "cell_type": "code",
   "execution_count": null,
   "metadata": {},
   "outputs": [],
   "source": [
    "%load_ext autoreload\n",
    "%autoreload 2\n",
    "\n",
    "%load_ext line_profiler"
   ]
  },
  {
   "cell_type": "code",
   "execution_count": null,
   "metadata": {},
   "outputs": [],
   "source": [
    "import numpy as np\n",
    "import matplotlib.pyplot as plt\n",
    "from smt.sampling_methods import LHS\n",
    "\n",
    "from psoas import swarm"
   ]
  },
  {
   "cell_type": "code",
   "execution_count": null,
   "metadata": {},
   "outputs": [],
   "source": [
    "def f(x):\n",
    "    return x[:, 0]**2 + x[:, 1]**2\n",
    "\n",
    "constraints = np.array([[-1, 1],\n",
    "                        [-10, 10],\n",
    "                       [-20, 20]])\n",
    "\n",
    "print('Constrain.shape', constraints.shape)\n",
    "\n",
    "sw = swarm.Swarm(f, 20, 3, constraints)"
   ]
  },
  {
   "cell_type": "code",
   "execution_count": null,
   "metadata": {},
   "outputs": [],
   "source": [
    "sw.dim"
   ]
  },
  {
   "cell_type": "code",
   "execution_count": null,
   "metadata": {},
   "outputs": [],
   "source": [
    "plt.plot(sw.position[:,0], sw.position[:,1], 'o')\n",
    "plt.xlabel(\"x\")\n",
    "plt.ylabel(\"y\")\n",
    "plt.show()"
   ]
  },
  {
   "cell_type": "code",
   "execution_count": null,
   "metadata": {},
   "outputs": [],
   "source": [
    "xlimits = np.array([[0.0, 4.0], [0.0, 3.0]])\n",
    "sampling = LHS(xlimits=xlimits)\n",
    "\n",
    "num = 50\n",
    "x = sampling(num)\n",
    "\n",
    "print(x.shape)\n",
    "\n",
    "plt.plot(x[:, 0], x[:, 1], \"o\")\n",
    "plt.xlabel(\"x\")\n",
    "plt.ylabel(\"y\")\n",
    "plt.show()"
   ]
  },
  {
   "cell_type": "markdown",
   "metadata": {},
   "source": [
    "# Function for hypersphere sampling"
   ]
  },
  {
   "cell_type": "code",
   "execution_count": null,
   "metadata": {},
   "outputs": [],
   "source": [
    "def get_random_sample(r, dim):\n",
    "    u = np.random.normal(0, 1, (r.shape[0], dim+2))\n",
    "    u_norm = np.linalg.norm(u, axis=1)\n",
    "    u /= u_norm[:,None]\n",
    "    u *= r[:,None]\n",
    "    return u[:,:dim]"
   ]
  },
  {
   "cell_type": "code",
   "execution_count": null,
   "metadata": {},
   "outputs": [],
   "source": [
    "# Test for Hypersphere sampling in 2D"
   ]
  },
  {
   "cell_type": "code",
   "execution_count": null,
   "metadata": {},
   "outputs": [],
   "source": [
    "random_samples=[]\n",
    "    \n",
    "update = get_random_sample(r, sw.dim)\n",
    "\n",
    "random_samples.append(center + update)\n",
    "\n",
    "random_samples = np.array(random_samples)"
   ]
  },
  {
   "cell_type": "code",
   "execution_count": null,
   "metadata": {},
   "outputs": [],
   "source": [
    "i=1\n",
    "plt.plot(position[0, 0], position[0, 1], label='starting pos', marker='+', color='blue')\n",
    "plt.plot(proj_pbest[0, 0], proj_pbest[0, 1], label='Proj_pbest', marker='+', color='red')\n",
    "plt.plot(proj_lbest[0, 0], proj_lbest[0, 1], label='Proj_lbest', marker='o', color='green')\n",
    "plt.plot(center[0, 0], center[0, 1], label='Center', marker='o', color='yellow')\n",
    "\n",
    "\n",
    "# for idx, sample in enumerate(random_samples):\n",
    "\n",
    "plt.plot(random_samples[:, 0, 0], random_samples[:, 0, 1], linestyle='None', marker='.', color='black')\n",
    "\n",
    "plt.legend()\n",
    "\n",
    "\n",
    "circle1 = plt.Circle(center[0, :] , r[0], color='purple')\n",
    "plt.gca().add_patch(circle1)\n",
    "\n",
    "plt.axis('equal')\n",
    "plt.show()"
   ]
  },
  {
   "cell_type": "markdown",
   "metadata": {},
   "source": [
    "# Test for Hypersphere sampling in 3D"
   ]
  },
  {
   "cell_type": "code",
   "execution_count": null,
   "metadata": {},
   "outputs": [],
   "source": [
    "import plotly.express as px"
   ]
  },
  {
   "cell_type": "code",
   "execution_count": null,
   "metadata": {},
   "outputs": [],
   "source": [
    "center=np.array([0, 0, 0])\n",
    "radius = 0.6\n",
    "dim = 3"
   ]
  },
  {
   "cell_type": "code",
   "execution_count": null,
   "metadata": {},
   "outputs": [],
   "source": [
    "data = [get_random_sample(radius, 3) for _ in range(100)]"
   ]
  },
  {
   "cell_type": "code",
   "execution_count": null,
   "metadata": {},
   "outputs": [],
   "source": [
    "data = np.array(data)"
   ]
  },
  {
   "cell_type": "code",
   "execution_count": null,
   "metadata": {},
   "outputs": [],
   "source": [
    "fig = px.scatter_3d(x=data[:, 0], y=data[:, 1], z=data[:, 2])\n",
    "fig.show()"
   ]
  },
  {
   "cell_type": "markdown",
   "metadata": {},
   "source": [
    "# Testfunction"
   ]
  },
  {
   "cell_type": "markdown",
   "metadata": {},
   "source": [
    "Where \"update\" is the hypersperical sample and r is the radius of the ball in which we would like to perform a uniform draw. "
   ]
  },
  {
   "cell_type": "code",
   "execution_count": null,
   "metadata": {},
   "outputs": [],
   "source": [
    "update = get_random_sample(r, sw.dim)"
   ]
  },
  {
   "cell_type": "code",
   "execution_count": null,
   "metadata": {},
   "outputs": [],
   "source": [
    "np.testing.assert_array_less(np.linalg.norm(update, axis=1), r)"
   ]
  }
 ],
 "metadata": {
  "kernelspec": {
   "display_name": "Python 3",
   "language": "python",
   "name": "python3"
  },
  "language_info": {
   "codemirror_mode": {
    "name": "ipython",
    "version": 3
   },
   "file_extension": ".py",
   "mimetype": "text/x-python",
   "name": "python",
   "nbconvert_exporter": "python",
   "pygments_lexer": "ipython3",
   "version": "3.8.5"
  }
 },
 "nbformat": 4,
 "nbformat_minor": 4
}
