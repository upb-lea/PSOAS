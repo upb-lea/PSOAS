{
 "cells": [
  {
   "cell_type": "code",
   "execution_count": null,
   "metadata": {},
   "outputs": [],
   "source": [
    "%load_ext autoreload\n",
    "%autoreload 2\n",
    "\n",
    "%load_ext line_profiler"
   ]
  },
  {
   "cell_type": "code",
   "execution_count": null,
   "metadata": {},
   "outputs": [],
   "source": [
    "import numpy as np\n",
    "import matplotlib.pyplot as plt\n",
    "from mpl_toolkits.mplot3d import Axes3D\n",
    "from tqdm import tqdm\n",
    "#from evalset.evalset import test_funcs, icml2016_tests\n",
    "import sys, inspect\n",
    "\n",
    "from psoas import swarm\n",
    "from psoas import optimizer"
   ]
  },
  {
   "cell_type": "code",
   "execution_count": null,
   "metadata": {},
   "outputs": [],
   "source": [
    "positions[0,:]=np.array([-12, 140])\n",
    "positions[2,:]=np.array([-17, 22])"
   ]
  },
  {
   "cell_type": "code",
   "execution_count": null,
   "metadata": {},
   "outputs": [],
   "source": [
    "bool_below = positions < constraints[:, 0]\n",
    "bool_above = positions > constraints[:, 1]\n",
    "\n",
    "for dim in range(init_swarm.dim):\n",
    "    positions[bool_below[:, dim], dim] = constraints[dim, 0]\n",
    "    positions[bool_above[:, dim], dim] = constraints[dim, 1]\n",
    "\n",
    "    velocity[bool_below[:, dim], dim] = 0\n",
    "    velocity[bool_above[:, dim], dim] = 0"
   ]
  },
  {
   "cell_type": "code",
   "execution_count": null,
   "metadata": {},
   "outputs": [],
   "source": [
    "def rosenbrock(x):\n",
    "    return (1 - x[:, 0])**2 + 100*(x[:, 1] - x[:, 0]**2)**2"
   ]
  },
  {
   "cell_type": "code",
   "execution_count": null,
   "metadata": {},
   "outputs": [],
   "source": [
    "def ackley(x):\n",
    "    f = -20*np.exp(-0.2*np.sqrt(0.5*((x[:,0]**2)+(x[:,1]**2))))-np.exp(0.5*(np.cos(2*np.pi*x[:,0])+np.cos(2*np.pi*x[:,1])))+np.exp(1)+20\n",
    "    return f"
   ]
  },
  {
   "cell_type": "code",
   "execution_count": null,
   "metadata": {
    "scrolled": false
   },
   "outputs": [],
   "source": [
    "sw = swarm.Swarm(f, 10, 2, constraints)\n",
    "# gbest_list = []\n",
    "# for i in tqdm(range(100)):\n",
    "#     sw.update_swarm()\n",
    "#     #print(sw.pbest_position)\n",
    "#     gbest, gbest_position = sw.compute_gbest()\n",
    "#     print(gbest)\n",
    "#     gbest_list.append(gbest)\n",
    "    \n",
    "gbest, gbest_position = sw.compute_gbest()\n",
    "(gbest, gbest_position)"
   ]
  },
  {
   "cell_type": "code",
   "execution_count": null,
   "metadata": {},
   "outputs": [],
   "source": [
    "lbest, lbest_position = sw.compute_lbest()\n",
    "\n",
    "pbest = sw.pbest\n",
    "pbest_position = sw.pbest_position\n",
    "\n",
    "position = sw.position + sw.velocity\n",
    "values = sw.func(position)"
   ]
  },
  {
   "cell_type": "code",
   "execution_count": null,
   "metadata": {},
   "outputs": [],
   "source": [
    "c_1, c_2 = np.ones(2)*0.5 + np.log(2)\n",
    "\n",
    "U_1 = np.random.uniform(0, 1, (sw.n_particles, sw.dim))\n",
    "U_2 = np.random.uniform(0, 1, (sw.n_particles, sw.dim))\n",
    "\n",
    "proj_pbest = position + c_1 * U_1 * (pbest_position - position)\n",
    "proj_lbest = position + c_2 * U_2 * (lbest_position - position) \n",
    "\n",
    "center = (position + proj_pbest + proj_lbest) / 3\n",
    "r = np.linalg.norm(center - position, axis=1)"
   ]
  },
  {
   "cell_type": "code",
   "execution_count": null,
   "metadata": {},
   "outputs": [],
   "source": [
    "u = np.random.normal(0, 1, (sw.n_particles, sw.dim+2))\n",
    "u_norm = np.linalg.norm(u, axis=1)\n",
    "u /= u_norm[:,None]\n",
    "u *= r[:,None]\n",
    "\n",
    "update = u[:,:sw.dim]\n",
    "new_point = center + update"
   ]
  },
  {
   "cell_type": "code",
   "execution_count": null,
   "metadata": {},
   "outputs": [],
   "source": []
  }
 ],
 "metadata": {
  "kernelspec": {
   "display_name": "Python 3",
   "language": "python",
   "name": "python3"
  },
  "language_info": {
   "codemirror_mode": {
    "name": "ipython",
    "version": 3
   },
   "file_extension": ".py",
   "mimetype": "text/x-python",
   "name": "python",
   "nbconvert_exporter": "python",
   "pygments_lexer": "ipython3",
   "version": "3.8.5"
  }
 },
 "nbformat": 4,
 "nbformat_minor": 4
}
